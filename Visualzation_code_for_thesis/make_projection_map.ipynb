{
 "cells": [
  {
   "cell_type": "code",
   "execution_count": 3,
   "metadata": {},
   "outputs": [],
   "source": [
    "import numpy as np\n",
    "import os \n",
    "import scipy.io\n",
    "from scipy.misc import imsave\n",
    "import math\n",
    "import glob as glob\n",
    "import cv2\n",
    "\n",
    "\n",
    "\n"
   ]
  },
  {
   "cell_type": "code",
   "execution_count": null,
   "metadata": {},
   "outputs": [],
   "source": []
  },
  {
   "cell_type": "code",
   "execution_count": null,
   "metadata": {},
   "outputs": [],
   "source": [
    "\n"
   ]
  },
  {
   "cell_type": "code",
   "execution_count": 4,
   "metadata": {},
   "outputs": [
    {
     "data": {
      "text/plain": [
       "array([[ 90.        ,  89.98333179,  89.96666358, ...,  40.04537457,\n",
       "         40.02870636,  40.01203815]])"
      ]
     },
     "execution_count": 4,
     "metadata": {},
     "output_type": "execute_result"
    }
   ],
   "source": [
    "lat"
   ]
  },
  {
   "cell_type": "code",
   "execution_count": 5,
   "metadata": {},
   "outputs": [],
   "source": [
    "#2014 dataset\n",
    "# get the 25 SAR scene number of 25 SAR scenes; therefore, we can iterate through all of them\n",
    "mean_lat_lon_2014=np.zeros([25,2])\n",
    "   \n",
    "dirc = '/home/lein/yan_thesis/raw_data/lat_lon/*_lat.mat'     #firstcolumn:lat,second: lon\n",
    "dirs= glob.glob(dirc)\n",
    "for i, diri in enumerate(dirs):\n",
    "    folder_id = diri.split('/')[6][:15]\n",
    "    lat = scipy.io.loadmat('/home/lein/yan_thesis/raw_data/lat_lon/%s_lat.mat' %folder_id)\n",
    "    lon = scipy.io.loadmat('/home/lein/yan_thesis/raw_data/lat_lon/%s_lon.mat' %folder_id)\n",
    "    lon_im = lon['lon2']                           \n",
    "    lat_im = lat['lat2']  \n",
    "    mean_lat_lon_2014[i,0]=lat_im.mean()\n",
    "    mean_lat_lon_2014[i,1]=lon_im.mean()\n",
    "    "
   ]
  },
  {
   "cell_type": "code",
   "execution_count": 6,
   "metadata": {},
   "outputs": [
    {
     "data": {
      "text/plain": [
       "25"
      ]
     },
     "execution_count": 6,
     "metadata": {},
     "output_type": "execute_result"
    }
   ],
   "source": [
    "len(dirs)"
   ]
  },
  {
   "cell_type": "code",
   "execution_count": 7,
   "metadata": {},
   "outputs": [
    {
     "data": {
      "text/plain": [
       "(25, 2)"
      ]
     },
     "execution_count": 7,
     "metadata": {},
     "output_type": "execute_result"
    }
   ],
   "source": [
    "mean_lat_lon_2014.shape"
   ]
  },
  {
   "cell_type": "code",
   "execution_count": 8,
   "metadata": {},
   "outputs": [],
   "source": [
    "#2013 dataset\n",
    "\n",
    "mean_lat_lon_2013=np.zeros([6,2])\n",
    "   \n",
    "dirc = '/home/lein/yan_thesis/raw_data/2013_da/lat_lon/*_lat.mat'     #firstcolumn:lat,second: lon\n",
    "dirs= glob.glob(dirc)\n",
    "for i, diri in enumerate(dirs):\n",
    "    folder_id = diri.split('/')[7][:15]\n",
    "    lat = scipy.io.loadmat('/home/lein/yan_thesis/raw_data/2013_da/lat_lon/%s_lat.mat' %folder_id)\n",
    "    lon = scipy.io.loadmat('/home/lein/yan_thesis/raw_data/2013_da/lat_lon/%s_lon.mat' %folder_id)\n",
    "    \n",
    "    lon_im = lon['lon2']                           \n",
    "    lat_im = lat['lat2']  \n",
    "    mean_lat_lon_2013[i,0]=lat_im.mean()\n",
    "    mean_lat_lon_2013[i,1]=lon_im.mean()\n"
   ]
  },
  {
   "cell_type": "code",
   "execution_count": 9,
   "metadata": {},
   "outputs": [
    {
     "name": "stdout",
     "output_type": "stream",
     "text": [
      "[[  66.0197912   -76.56118222]\n",
      " [  74.1868219  -123.67837248]\n",
      " [  72.27155805  -97.17389507]\n",
      " [  71.78507748 -122.79664084]\n",
      " [  73.80668746  -94.69979229]\n",
      " [  70.88765155 -135.26641377]]\n"
     ]
    }
   ],
   "source": [
    "print mean_lat_lon_2013"
   ]
  },
  {
   "cell_type": "markdown",
   "metadata": {},
   "source": []
  },
  {
   "cell_type": "code",
   "execution_count": 10,
   "metadata": {},
   "outputs": [],
   "source": [
    "#2011 dataset\n",
    "\n",
    "mean_lat_lon_2011=np.zeros([4,2])\n",
    "   \n",
    "dirc = '/home/lein/yan_thesis/raw_data/2011_2012/lat_lon/2011*_lat.mat'     #firstcolumn:lat,second: lon\n",
    "dirs= glob.glob(dirc)\n",
    "\n",
    "for i, diri in enumerate(dirs):\n",
    "    folder_id = diri.split('/')[7][:15]\n",
    "    lat = scipy.io.loadmat('/home/lein/yan_thesis/raw_data/2011_2012/lat_lon/%s_lat.mat' %folder_id)\n",
    "    lon = scipy.io.loadmat('/home/lein/yan_thesis/raw_data/2011_2012/lat_lon/%s_lon.mat' %folder_id)\n",
    "    \n",
    "    lon_im = lon['lon2']                           \n",
    "    lat_im = lat['lat2']  \n",
    "    mean_lat_lon_2011[i,0]=lat_im.mean()\n",
    "    mean_lat_lon_2011[i,1]=lon_im.mean()\n",
    "\n"
   ]
  },
  {
   "cell_type": "code",
   "execution_count": 11,
   "metadata": {},
   "outputs": [
    {
     "data": {
      "text/plain": [
       "['/home/lein/yan_thesis/raw_data/2011_2012/lat_lon/20110214_094659_lat.mat',\n",
       " '/home/lein/yan_thesis/raw_data/2011_2012/lat_lon/20110217_100003_lat.mat',\n",
       " '/home/lein/yan_thesis/raw_data/2011_2012/lat_lon/20110216_102816_lat.mat',\n",
       " '/home/lein/yan_thesis/raw_data/2011_2012/lat_lon/20110220_101204_lat.mat']"
      ]
     },
     "execution_count": 11,
     "metadata": {},
     "output_type": "execute_result"
    }
   ],
   "source": [
    "dirs"
   ]
  },
  {
   "cell_type": "code",
   "execution_count": 12,
   "metadata": {},
   "outputs": [
    {
     "data": {
      "text/plain": [
       "array([[ 54.80799902, -52.42308663],\n",
       "       [ 53.18051986, -56.07638748],\n",
       "       [ 57.29016132, -62.10511076],\n",
       "       [ 55.47744915, -58.52813304]])"
      ]
     },
     "execution_count": 12,
     "metadata": {},
     "output_type": "execute_result"
    }
   ],
   "source": [
    "mean_lat_lon_2011"
   ]
  },
  {
   "cell_type": "code",
   "execution_count": 13,
   "metadata": {},
   "outputs": [],
   "source": [
    "#2012 dataset\n",
    "\n",
    "mean_lat_lon_2012=np.zeros([6,2])\n",
    "   \n",
    "dirc = '/home/lein/yan_thesis/raw_data/2011_2012/lat_lon/2012*_lat.mat'     #firstcolumn:lat,second: lon\n",
    "dirs= glob.glob(dirc)\n",
    "\n",
    "for i, diri in enumerate(dirs):\n",
    "    folder_id = diri.split('/')[7][:15]\n",
    "    lat = scipy.io.loadmat('/home/lein/yan_thesis/raw_data/2011_2012/lat_lon/%s_lat.mat' %folder_id)\n",
    "    lon = scipy.io.loadmat('/home/lein/yan_thesis/raw_data/2011_2012/lat_lon/%s_lon.mat' %folder_id)\n",
    "    \n",
    "    lon_im = lon['lon2']                           \n",
    "    lat_im = lat['lat2']  \n",
    "    mean_lat_lon_2012[i,0]=lat_im.mean()\n",
    "    mean_lat_lon_2012[i,1]=lon_im.mean()\n"
   ]
  },
  {
   "cell_type": "code",
   "execution_count": 14,
   "metadata": {},
   "outputs": [
    {
     "data": {
      "text/plain": [
       "array([[ 49.03170453, -63.59388777],\n",
       "       [ 48.62947   , -67.90754247],\n",
       "       [ 48.5854569 , -65.81446429],\n",
       "       [ 47.34798108, -62.47807285],\n",
       "       [ 48.84602417, -64.69274403],\n",
       "       [ 49.91378007, -61.24550154]])"
      ]
     },
     "execution_count": 14,
     "metadata": {},
     "output_type": "execute_result"
    }
   ],
   "source": [
    "mean_lat_lon_2012"
   ]
  },
  {
   "cell_type": "code",
   "execution_count": 62,
   "metadata": {},
   "outputs": [
    {
     "data": {
      "image/png": "[encoded data removed]",
      "text/plain": [
       "<matplotlib.figure.Figure at 0x7f7869acff10>"
      ]
     },
     "metadata": {},
     "output_type": "display_data"
    }
   ],
   "source": [
    "\n",
    "plt.scatter(mean_lat_lon_2014[:,1],mean_lat_lon_2014[:,0],c='b',marker='*')\n",
    "plt.scatter(mean_lat_lon_2013[:,1],mean_lat_lon_2013[:,0],c='r')\n",
    "plt.scatter(mean_lat_lon_2012[:,1],mean_lat_lon_2012[:,0],c='y')\n",
    "plt.scatter(mean_lat_lon_2011[:,1],mean_lat_lon_2011[:,0],c='m')\n",
    "\n",
    "plt.savefig('mapping_location.jpg')"
   ]
  },
  {
   "cell_type": "code",
   "execution_count": 18,
   "metadata": {},
   "outputs": [],
   "source": [
    "#plt.scatter(mean_lat_lon_2014[:,1],mean_lat_lon_2014[:,0],c='b',marker='*')"
   ]
  },
  {
   "cell_type": "code",
   "execution_count": 17,
   "metadata": {},
   "outputs": [
    {
     "name": "stdout",
     "output_type": "stream",
     "text": [
      "(1, 3000)\n",
      "(1, 8001)\n",
      "(3000, 8001)\n"
     ]
    },
    {
     "data": {
      "text/plain": [
       "<matplotlib.image.AxesImage at 0x7f786f97cb90>"
      ]
     },
     "execution_count": 17,
     "metadata": {},
     "output_type": "execute_result"
    },
    {
     "data": {
      "image/png": "[encoded data removed]",
      "text/plain": [
       "<matplotlib.figure.Figure at 0x7f7872f25310>"
      ]
     },
     "metadata": {},
     "output_type": "display_data"
    }
   ],
   "source": [
    "mat = scipy.io.loadmat('landmaskna.mat')\n",
    "lat = mat['latvalsna']\n",
    "lon = mat['lonvalsna']\n",
    "landmask = mat['landnafp']\n",
    "print lat.shape\n",
    "print lon.shape\n",
    "print landmask.shape\n",
    "%matplotlib inline\n",
    "import matplotlib.pyplot as plt\n",
    "plt.imshow(landmask)"
   ]
  },
  {
   "cell_type": "code",
   "execution_count": 57,
   "metadata": {},
   "outputs": [
    {
     "name": "stdout",
     "output_type": "stream",
     "text": [
      "900 1800\n"
     ]
    }
   ],
   "source": [
    "lon_min=np.argmin((lon-(-140))**2)\n",
    "lon_max=np.argmin((lon-(-70))**2)\n",
    "lat_min=np.argmin((lat-(75))**2)\n",
    "lat_max=np.argmin((lat-(60))**2)\n",
    "\n",
    "print lat_min,lat_max"
   ]
  },
  {
   "cell_type": "code",
   "execution_count": 58,
   "metadata": {},
   "outputs": [
    {
     "name": "stdout",
     "output_type": "stream",
     "text": [
      "[[  nan   nan   nan ...,   nan   nan   nan]\n",
      " [  nan   nan   nan ...,   nan   nan   nan]\n",
      " [  nan   nan   nan ...,   nan   nan   nan]\n",
      " ..., \n",
      " [ 255.  255.  255. ...,  255.  255.  255.]\n",
      " [ 255.  255.  255. ...,  255.  255.  255.]\n",
      " [ 255.  255.  255. ...,   nan   nan   nan]]\n"
     ]
    }
   ],
   "source": [
    "new_landmask=landmask[lat_min:lat_max, lon_min:lon_max]\n",
    "print new_landmask"
   ]
  },
  {
   "cell_type": "code",
   "execution_count": 59,
   "metadata": {},
   "outputs": [
    {
     "data": {
      "text/plain": [
       "<matplotlib.image.AxesImage at 0x7f7869bf97d0>"
      ]
     },
     "execution_count": 59,
     "metadata": {},
     "output_type": "execute_result"
    },
    {
     "data": {
      "image/png": "[encoded data removed]",
      "text/plain": [
       "<matplotlib.figure.Figure at 0x7f786f9a4c90>"
      ]
     },
     "metadata": {},
     "output_type": "display_data"
    }
   ],
   "source": [
    "plt.imshow(new_landmask)"
   ]
  },
  {
   "cell_type": "code",
   "execution_count": null,
   "metadata": {},
   "outputs": [],
   "source": []
  }
 ],
 "metadata": {
  "kernelspec": {
   "display_name": "Python 2",
   "language": "python",
   "name": "python2"
  },
  "language_info": {
   "codemirror_mode": {
    "name": "ipython",
    "version": 2
   },
   "file_extension": ".py",
   "mimetype": "text/x-python",
   "name": "python",
   "nbconvert_exporter": "python",
   "pygments_lexer": "ipython2",
   "version": "2.7.14"
  }
 },
 "nbformat": 4,
 "nbformat_minor": 2
}
