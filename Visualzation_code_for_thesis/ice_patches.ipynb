{
 "cells": [
  {
   "cell_type": "code",
   "execution_count": 2,
   "metadata": {},
   "outputs": [],
   "source": [
    "import cv2\n",
    "import numpy as np\n",
    "import matplotlib.pyplot as plt\n"
   ]
  },
  {
   "cell_type": "code",
   "execution_count": 149,
   "metadata": {},
   "outputs": [
    {
     "name": "stdout",
     "output_type": "stream",
     "text": [
      "1\n",
      "2\n",
      "3\n",
      "4\n",
      "5\n",
      "6\n",
      "7\n",
      "8\n",
      "9\n"
     ]
    }
   ],
   "source": [
    "for i in range(1,10):\n",
    "    print i\n",
    "    img= cv2.imread('/home/lein/Dropbox/uw/figures/ice%s.jpg'%i);\n",
    "    HH=img[:,:,0]\n",
    "    cv2.imwrite('/home/lein/Dropbox/uw/figures/ice%s.jpg'%i, HH);"
   ]
  },
  {
   "cell_type": "code",
   "execution_count": 125,
   "metadata": {},
   "outputs": [
    {
     "name": "stdout",
     "output_type": "stream",
     "text": [
      "[[[41 27 51]\n",
      "  [40 26 50]\n",
      "  [38 24 48]\n",
      "  ..., \n",
      "  [47 27 50]\n",
      "  [42 22 45]\n",
      "  [41 20 45]]\n",
      "\n",
      " [[40 26 50]\n",
      "  [40 26 50]\n",
      "  [38 24 48]\n",
      "  ..., \n",
      "  [53 33 56]\n",
      "  [48 28 51]\n",
      "  [44 23 48]]\n",
      "\n",
      " [[40 26 50]\n",
      "  [39 25 49]\n",
      "  [39 25 49]\n",
      "  ..., \n",
      "  [49 29 52]\n",
      "  [50 30 53]\n",
      "  [50 29 54]]\n",
      "\n",
      " ..., \n",
      " [[41 25 56]\n",
      "  [40 24 55]\n",
      "  [39 23 54]\n",
      "  ..., \n",
      "  [42 29 73]\n",
      "  [41 30 76]\n",
      "  [43 31 79]]\n",
      "\n",
      " [[41 25 56]\n",
      "  [40 24 55]\n",
      "  [39 23 54]\n",
      "  ..., \n",
      "  [40 27 71]\n",
      "  [40 27 71]\n",
      "  [41 28 74]]\n",
      "\n",
      " [[40 24 55]\n",
      "  [39 23 54]\n",
      "  [39 23 54]\n",
      "  ..., \n",
      "  [38 25 69]\n",
      "  [38 25 69]\n",
      "  [38 25 69]]]\n"
     ]
    }
   ],
   "source": [
    "print img"
   ]
  },
  {
   "cell_type": "code",
   "execution_count": 143,
   "metadata": {},
   "outputs": [
    {
     "data": {
      "text/plain": [
       "<matplotlib.image.AxesImage at 0x7feaddca6750>"
      ]
     },
     "execution_count": 143,
     "metadata": {},
     "output_type": "execute_result"
    },
    {
     "data": {
      "image/png": "[encoded data removed]",
      "text/plain": [
       "<matplotlib.figure.Figure at 0x7feadde36d10>"
      ]
     },
     "metadata": {},
     "output_type": "display_data"
    }
   ],
   "source": [
    "\n",
    "cv2.imwrite('ice.jpg',img)\n",
    "im2=cv2.imread('ice.jpg');\n",
    "img==im2\n",
    "from scipy.misc import imsave\n",
    "\n",
    "import matplotlib.image\n",
    "read_img = matplotlib.image.imread('./ICE_WATER/ice2.jpg')\n",
    "plt.imshow(read_img)"
   ]
  },
  {
   "cell_type": "code",
   "execution_count": 144,
   "metadata": {},
   "outputs": [
    {
     "data": {
      "text/plain": [
       "(45, 45)"
      ]
     },
     "execution_count": 144,
     "metadata": {},
     "output_type": "execute_result"
    }
   ],
   "source": [
    "HH=read_img[:,:,0]\n",
    "HV=read_img[:,:,1]\n",
    "IC=read_img[:,:,2]\n",
    "HH.shape"
   ]
  },
  {
   "cell_type": "code",
   "execution_count": 145,
   "metadata": {},
   "outputs": [
    {
     "data": {
      "text/plain": [
       "array([[66, 65, 65, ..., 55, 55, 56],\n",
       "       [66, 65, 65, ..., 55, 55, 56],\n",
       "       [66, 65, 65, ..., 59, 61, 61],\n",
       "       ..., \n",
       "       [40, 37, 36, ..., 79, 80, 82],\n",
       "       [34, 31, 32, ..., 79, 82, 89],\n",
       "       [34, 31, 32, ..., 79, 83, 95]], dtype=uint8)"
      ]
     },
     "execution_count": 145,
     "metadata": {},
     "output_type": "execute_result"
    }
   ],
   "source": [
    "HH"
   ]
  },
  {
   "cell_type": "code",
   "execution_count": 146,
   "metadata": {
    "scrolled": true
   },
   "outputs": [
    {
     "name": "stderr",
     "output_type": "stream",
     "text": [
      "/home/lein/miniconda2/lib/python2.7/site-packages/ipykernel_launcher.py:1: DeprecationWarning: `imsave` is deprecated!\n",
      "`imsave` is deprecated in SciPy 1.0.0, and will be removed in 1.2.0.\n",
      "Use ``imageio.imwrite`` instead.\n",
      "  \"\"\"Entry point for launching an IPython kernel.\n",
      "/home/lein/miniconda2/lib/python2.7/site-packages/ipykernel_launcher.py:2: DeprecationWarning: `imsave` is deprecated!\n",
      "`imsave` is deprecated in SciPy 1.0.0, and will be removed in 1.2.0.\n",
      "Use ``imageio.imwrite`` instead.\n",
      "  \n",
      "/home/lein/miniconda2/lib/python2.7/site-packages/ipykernel_launcher.py:3: DeprecationWarning: `imsave` is deprecated!\n",
      "`imsave` is deprecated in SciPy 1.0.0, and will be removed in 1.2.0.\n",
      "Use ``imageio.imwrite`` instead.\n",
      "  This is separate from the ipykernel package so we can avoid doing imports until\n"
     ]
    }
   ],
   "source": [
    "imsave('water_hh.tif',HH)\n",
    "imsave('water_hv.tif',HV)\n",
    "imsave('water_ic.tif',IC)"
   ]
  },
  {
   "cell_type": "code",
   "execution_count": 147,
   "metadata": {},
   "outputs": [
    {
     "data": {
      "text/plain": [
       "(45, 45, 3)"
      ]
     },
     "execution_count": 147,
     "metadata": {},
     "output_type": "execute_result"
    }
   ],
   "source": [
    "cv2.imread('water_hh.tif').shape"
   ]
  },
  {
   "cell_type": "code",
   "execution_count": null,
   "metadata": {},
   "outputs": [],
   "source": []
  },
  {
   "cell_type": "code",
   "execution_count": null,
   "metadata": {},
   "outputs": [],
   "source": []
  },
  {
   "cell_type": "code",
   "execution_count": null,
   "metadata": {},
   "outputs": [],
   "source": []
  }
 ],
 "metadata": {
  "kernelspec": {
   "display_name": "Python 2",
   "language": "python",
   "name": "python2"
  },
  "language_info": {
   "codemirror_mode": {
    "name": "ipython",
    "version": 2
   },
   "file_extension": ".py",
   "mimetype": "text/x-python",
   "name": "python",
   "nbconvert_exporter": "python",
   "pygments_lexer": "ipython2",
   "version": "2.7.14"
  }
 },
 "nbformat": 4,
 "nbformat_minor": 2
}
